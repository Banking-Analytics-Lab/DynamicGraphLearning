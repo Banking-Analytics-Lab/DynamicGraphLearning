{
 "cells": [
  {
   "cell_type": "code",
   "execution_count": null,
   "metadata": {},
   "outputs": [],
   "source": [
    "print('test')\n"
   ]
  }
 ],
 "metadata": {
  "interpreter": {
   "hash": "1dd3e09ad2d66205a5dc358440236d734a99104d202f72a697bec28977974f44"
  },
  "kernelspec": {
   "display_name": "Python 3.7.7 64-bit ('TGN': venv)",
   "language": "python",
   "name": "python3"
  },
  "language_info": {
   "name": "python",
   "version": "3.7.7"
  },
  "orig_nbformat": 4
 },
 "nbformat": 4,
 "nbformat_minor": 2
}
